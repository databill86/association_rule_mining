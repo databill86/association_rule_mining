{
 "cells": [
  {
   "cell_type": "code",
   "execution_count": 6,
   "metadata": {
    "collapsed": true
   },
   "outputs": [],
   "source": [
    "import os\n",
    "import csv\n",
    "import pandas as pd\n",
    "import numpy as np"
   ]
  },
  {
   "cell_type": "code",
   "execution_count": 3,
   "metadata": {},
   "outputs": [
    {
     "data": {
      "text/plain": [
       "['.git', '.gitignore', 'data', 'pseduo', 'README.md.txt', 'results', 'src']"
      ]
     },
     "execution_count": 3,
     "metadata": {},
     "output_type": "execute_result"
    }
   ],
   "source": [
    "os.listdir()\n",
    "os.chdir(\"cs657/hw2/\")\n",
    "os.listdir()"
   ]
  },
  {
   "cell_type": "code",
   "execution_count": 20,
   "metadata": {},
   "outputs": [],
   "source": [
    "r_fn = \"data/ratings.csv\"\n",
    "w_fn = \"data/ratings_processed.csv\"\n",
    "with open(w_fn, 'w') as output:\n",
    "    wr = csv.writer(output)\n",
    "    with open(r_fn, 'rt') as input:\n",
    "        header = True\n",
    "        for row in csv.reader(input):\n",
    "            if header:\n",
    "                wr.writerow(row[:2])\n",
    "                header = False\n",
    "            else:\n",
    "                rating = float(row[2])\n",
    "                if rating >= 4:\n",
    "                    wr.writerow(row[:2])"
   ]
  },
  {
   "cell_type": "code",
   "execution_count": 25,
   "metadata": {},
   "outputs": [
    {
     "name": "stdout",
     "output_type": "stream",
     "text": [
      "0\t7\n1\t8\n0\t7\n2\t9\n0\t7\n3\t30\n1\t8\n2\t9\n1\t8\n3\t30\n2\t9\n3\t30\n"
     ]
    }
   ],
   "source": [
    "a = [7,8,9,30]\n",
    "for i in range(len(a)):\n",
    "    j_s = i + 1\n",
    "    for j in range(j_s, len(a)):\n",
    "        print(\"{}\\t{}\".format(i, a[i]))\n",
    "        print(\"{}\\t{}\".format(j, a[j]))"
   ]
  }
 ],
 "metadata": {
  "kernelspec": {
   "display_name": "Python 2",
   "language": "python",
   "name": "python2"
  },
  "language_info": {
   "codemirror_mode": {
    "name": "ipython",
    "version": 2.0
   },
   "file_extension": ".py",
   "mimetype": "text/x-python",
   "name": "python",
   "nbconvert_exporter": "python",
   "pygments_lexer": "ipython2",
   "version": "2.7.6"
  }
 },
 "nbformat": 4,
 "nbformat_minor": 0
}